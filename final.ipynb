{
  "metadata": {
    "kernelspec": {
      "name": "python",
      "display_name": "Python (Pyodide)",
      "language": "python"
    },
    "language_info": {
      "codemirror_mode": {
        "name": "python",
        "version": 3
      },
      "file_extension": ".py",
      "mimetype": "text/x-python",
      "name": "python",
      "nbconvert_exporter": "python",
      "pygments_lexer": "ipython3",
      "version": "3.8"
    }
  },
  "nbformat_minor": 4,
  "nbformat": 4,
  "cells": [
    {
      "cell_type": "code",
      "source": "# Installing required libraries\n!pip install xlsxwriter\n!pip install requests",
      "metadata": {
        "trusted": true
      },
      "outputs": [],
      "execution_count": null
    },
    {
      "cell_type": "code",
      "source": "#Importing required libraries\n\nfrom bs4 import BeautifulSoup\nimport pandas as pd\nimport requests\nfrom datetime import datetime\nimport random\nimport time\nimport gspread",
      "metadata": {
        "trusted": true
      },
      "outputs": [],
      "execution_count": null
    },
    {
      "cell_type": "code",
      "source": "from oauth2client.service_account import ServiceAccountCredentials\n\nscopes :[\"https://spreadsheets.google.com/feeds\",'https://www.googleapis.com/auth/sprea...,\"https://www.googleapis.com/auth/drive...\",\"https://www.googleapis.com/auth/drive\"]\ncreds = ServiceAccountCredentials.from_json_keyfile_name(\"creds.json\",scope)\nclient = gspread.authorize(creds)\n",
      "metadata": {
        "trusted": true
      },
      "outputs": [],
      "execution_count": null
    },
    {
      "cell_type": "code",
      "source": "sheet = client.open(\"Master-Excel-sheet-TOI\")\ntarget_sheet = sheet.get_worsheet(0)\ntarget_sheet.update.acell('A1' , 'Check')",
      "metadata": {
        "trusted": true
      },
      "outputs": [],
      "execution_count": null
    },
    {
      "cell_type": "code",
      "source": "#Function to send request with retry logic\n\ndef send_request_with_retry(url):\n    max_retries = 500\n    retries = 0\n    while retries < max_retries:\n            try:\n                response = requests.get(url)\n                if response.status_code == 200:\n                    return response\n            except requests.RequestException as e:\n                print(f\"Request Failed : {e}\")\n            retries += 1\n            #Generation of a random delay between retries\n            delay = 1000 + random.randint(1,1000)\n            print(f\"Retrying in {delay/1000} seconds....\")\n            time.sleep(delay/1000)\n    #Return if all entries fail\n    return None\n\n\n#Forming a dataframe to store and represent Data\nmy_columns = ['Date' , 'Heading' , 'Text']\ndf = pd.Dataframe(columns=my_columns)\n\n#Day loop\nNew_cell = 'A1'\nx = 44561\nindex = 1\nBatch = 0\nrun = 0\nt = x+Batch\nlimit = 44926\n\nwhile t <= limit:\n    daily_url = f'https://timesofindia.indiatimes.com/2022/1/1/archivelist/year-2022,month-1,starttime-{t}.cms'\n    Batch += 1\n    t += 1\n\n    # Retrieving links from the daily_url\n    response = requests.get(daily_url)\n    html_content = response.text\n    soup = BeautifulSoup(html_content, 'html.parser')\n\n    link = soup.find('tr' , class_ = \"rightColWrap\"\n    links = link.find_all('a')\n\n    #Retrieving Data from links\n    local_url = \"\"\n    for url in links:\n        index += 1\n        local_url = url.get('href')\n        response_link = requests.get(local_url)\n        html_content = response_link.text\n        soup_link = BeautifulSoup(html_content, 'html.parser')\n\n         try:\n             test = 1\n             #Extracting Heading\n             headings = []\n             for tag in soup_link.find_all(['h1]):\n                headings.append(tag.text.strip())\n                sorted_headings = sorted(headings)\n            for h1 in sorted_headings:\n                Heading = h1\n\n            #Extracting Date\n            datex = soup_link,find('div' , class_ ='VEOUU')\n            i = 18\n            date = \"\"\n            while (i < len(datex)):\n                date = date + datex[i]\n                 i += 1\n            #Converting Date Format from January 1, 2021 to 01-01-2021\n             date_str = date\n             date_obj = datetime.strptime(date_str, \"",
      "metadata": {
        "trusted": true
      },
      "outputs": [],
      "execution_count": null
    }
  ]
}